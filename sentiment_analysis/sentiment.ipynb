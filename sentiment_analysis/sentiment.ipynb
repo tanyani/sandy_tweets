{
 "cells": [
  {
   "cell_type": "code",
   "execution_count": 1,
   "metadata": {},
   "outputs": [],
   "source": [
    "from vaderSentiment.vaderSentiment import SentimentIntensityAnalyzer\n",
    "import re\n",
    "import string\n",
    "import pandas as pd\n",
    "import nltk"
   ]
  },
  {
   "cell_type": "code",
   "execution_count": 2,
   "metadata": {},
   "outputs": [],
   "source": [
    "analyzer = SentimentIntensityAnalyzer()\n",
    "def sentiment_analyzer_scores(text):\n",
    "    score = analyzer.polarity_scores(text)\n",
    "    print(score)"
   ]
  },
  {
   "cell_type": "code",
   "execution_count": 37,
   "metadata": {},
   "outputs": [],
   "source": [
    "linedata = []\n",
    "with open(\"../../tmp3.csv\") as f:\n",
    "    for line in f:\n",
    "        linedata.append(line.split(','))"
   ]
  },
  {
   "cell_type": "code",
   "execution_count": 38,
   "metadata": {},
   "outputs": [],
   "source": [
    "linedata = pd.DataFrame(linedata)"
   ]
  },
  {
   "cell_type": "code",
   "execution_count": 41,
   "metadata": {},
   "outputs": [],
   "source": [
    "linedata['text'] = linedata[linedata.columns[6:]].fillna('').apply(lambda row: ''.join(row.values.astype(str)), axis = 1)"
   ]
  },
  {
   "cell_type": "code",
   "execution_count": 43,
   "metadata": {},
   "outputs": [],
   "source": [
    "linedata.rename(columns = {0:'id', 1:'user', 2:'time', 4:'lat', 5:'lon'}, inplace = True)"
   ]
  },
  {
   "cell_type": "code",
   "execution_count": 44,
   "metadata": {},
   "outputs": [],
   "source": [
    "df = linedata[['id','user','time','lat','lon','text']]"
   ]
  },
  {
   "cell_type": "code",
   "execution_count": 45,
   "metadata": {},
   "outputs": [
    {
     "data": {
      "text/html": [
       "<div>\n",
       "<style scoped>\n",
       "    .dataframe tbody tr th:only-of-type {\n",
       "        vertical-align: middle;\n",
       "    }\n",
       "\n",
       "    .dataframe tbody tr th {\n",
       "        vertical-align: top;\n",
       "    }\n",
       "\n",
       "    .dataframe thead th {\n",
       "        text-align: right;\n",
       "    }\n",
       "</style>\n",
       "<table border=\"1\" class=\"dataframe\">\n",
       "  <thead>\n",
       "    <tr style=\"text-align: right;\">\n",
       "      <th></th>\n",
       "      <th>id</th>\n",
       "      <th>user</th>\n",
       "      <th>time</th>\n",
       "      <th>lat</th>\n",
       "      <th>lon</th>\n",
       "      <th>text</th>\n",
       "    </tr>\n",
       "  </thead>\n",
       "  <tbody>\n",
       "    <tr>\n",
       "      <th>0</th>\n",
       "      <td>'262619667330396161'</td>\n",
       "      <td>'Andrewthemark'</td>\n",
       "      <td>'2012-10-28 18:19:42'</td>\n",
       "      <td>u'coordinates': [40.67360978</td>\n",
       "      <td>-73.69137707]}'</td>\n",
       "      <td>'@yeahimjailed @marcushaight yeah but kristin ...</td>\n",
       "    </tr>\n",
       "    <tr>\n",
       "      <th>1</th>\n",
       "      <td>'262619681305792512'</td>\n",
       "      <td>'cabrera'</td>\n",
       "      <td>'2012-10-28 18:19:45'</td>\n",
       "      <td>u'coordinates': [40.6879886</td>\n",
       "      <td>-73.9546139]}'</td>\n",
       "      <td>'@zarabeatriz @dupre se viene Sandy.'\\n</td>\n",
       "    </tr>\n",
       "    <tr>\n",
       "      <th>2</th>\n",
       "      <td>'262619684543811584'</td>\n",
       "      <td>'m0ff'</td>\n",
       "      <td>'2012-10-28 18:19:46'</td>\n",
       "      <td>u'coordinates': [45.27374765</td>\n",
       "      <td>-75.86502686]}'</td>\n",
       "      <td>'I wonder how bad my migraine is gonna be when...</td>\n",
       "    </tr>\n",
       "    <tr>\n",
       "      <th>3</th>\n",
       "      <td>'262619693376999424'</td>\n",
       "      <td>'Melbroadcasts'</td>\n",
       "      <td>'2012-10-28 18:19:48'</td>\n",
       "      <td>u'coordinates': [40.77172216</td>\n",
       "      <td>-73.91315814]}'</td>\n",
       "      <td>'Come on atleast save some of the wolves! http...</td>\n",
       "    </tr>\n",
       "    <tr>\n",
       "      <th>4</th>\n",
       "      <td>'262619694199107584'</td>\n",
       "      <td>'LeEmLeGiT'</td>\n",
       "      <td>'2012-10-28 18:19:48'</td>\n",
       "      <td>u'coordinates': [41.11522062</td>\n",
       "      <td>-75.04597037]}'</td>\n",
       "      <td>'\"@jellii19: Sandy #YouScared... Roll through ...</td>\n",
       "    </tr>\n",
       "  </tbody>\n",
       "</table>\n",
       "</div>"
      ],
      "text/plain": [
       "                     id             user                   time  \\\n",
       "0  '262619667330396161'  'Andrewthemark'  '2012-10-28 18:19:42'   \n",
       "1  '262619681305792512'        'cabrera'  '2012-10-28 18:19:45'   \n",
       "2  '262619684543811584'           'm0ff'  '2012-10-28 18:19:46'   \n",
       "3  '262619693376999424'  'Melbroadcasts'  '2012-10-28 18:19:48'   \n",
       "4  '262619694199107584'      'LeEmLeGiT'  '2012-10-28 18:19:48'   \n",
       "\n",
       "                             lat               lon  \\\n",
       "0   u'coordinates': [40.67360978   -73.69137707]}'   \n",
       "1    u'coordinates': [40.6879886    -73.9546139]}'   \n",
       "2   u'coordinates': [45.27374765   -75.86502686]}'   \n",
       "3   u'coordinates': [40.77172216   -73.91315814]}'   \n",
       "4   u'coordinates': [41.11522062   -75.04597037]}'   \n",
       "\n",
       "                                                text  \n",
       "0  '@yeahimjailed @marcushaight yeah but kristin ...  \n",
       "1            '@zarabeatriz @dupre se viene Sandy.'\\n  \n",
       "2  'I wonder how bad my migraine is gonna be when...  \n",
       "3  'Come on atleast save some of the wolves! http...  \n",
       "4  '\"@jellii19: Sandy #YouScared... Roll through ...  "
      ]
     },
     "execution_count": 45,
     "metadata": {},
     "output_type": "execute_result"
    }
   ],
   "source": [
    "df.head()"
   ]
  },
  {
   "cell_type": "code",
   "execution_count": 46,
   "metadata": {},
   "outputs": [],
   "source": [
    "df = df.dropna()"
   ]
  },
  {
   "cell_type": "code",
   "execution_count": 47,
   "metadata": {},
   "outputs": [],
   "source": [
    "df['lat'] = df['lat'].str.split('[').apply(lambda x: x[1])"
   ]
  },
  {
   "cell_type": "code",
   "execution_count": 48,
   "metadata": {},
   "outputs": [],
   "source": [
    "df['lon'] = df['lon'].str.split(']').apply(lambda x: x[0])"
   ]
  },
  {
   "cell_type": "code",
   "execution_count": 49,
   "metadata": {},
   "outputs": [],
   "source": [
    "def preprocess(text):\n",
    "    if 'via' in text:\n",
    "        return re.match('(.*?)via.*?\\s?(.*?)', re.sub(r\"http\\S+\", \"\", re.sub(r\"[^a-zA-Z0-9]+\", ' ', re.sub(r'\\d+', '', text.lower()).translate(str.maketrans('', '', string.punctuation)).strip()))).group(1)\n",
    "    else:\n",
    "        return re.sub(r\"http\\S+\", \"\", re.sub(r\"[^a-zA-Z0-9]+\", ' ', re.sub(r'\\d+', '', text.lower()).translate(str.maketrans('', '', string.punctuation)).strip()))"
   ]
  },
  {
   "cell_type": "code",
   "execution_count": 25,
   "metadata": {},
   "outputs": [],
   "source": [
    "from pycorenlp import StanfordCoreNLP "
   ]
  },
  {
   "cell_type": "code",
   "execution_count": 26,
   "metadata": {},
   "outputs": [],
   "source": [
    "nlp = StanfordCoreNLP('http://localhost:9000')"
   ]
  },
  {
   "cell_type": "code",
   "execution_count": 31,
   "metadata": {},
   "outputs": [],
   "source": [
    "# def get_sentiment(text):\n",
    "#     res = nlp.annotate(text,\n",
    "#                        properties={'annotators':'sentiment',\n",
    "#             'outputFormat': 'json',\n",
    "#             'timeout': 1000,\n",
    "# })\n",
    "#     print(text)\n",
    "#     print('Sentiment:', res['sentences'][0]['sentiment'])\n",
    "#     print('Sentiment score:', res['sentences'][0]['sentimentValue'])\n",
    "#     print('Sentiment distribution (0-v. negative, 5-v.positive:', res['sentences'][0]['sentimentDistribution'])"
   ]
  },
  {
   "cell_type": "code",
   "execution_count": 44,
   "metadata": {},
   "outputs": [],
   "source": [
    "def get_sentiment(text):\n",
    "    res = nlp.annotate(text,\n",
    "                       properties={'annotators':'sentiment',\n",
    "            'outputFormat': 'json',\n",
    "            'timeout': 10000,\n",
    "})\n",
    "    return(res['sentences'][0]['sentiment'],res['sentences'][0]['sentimentValue'])"
   ]
  },
  {
   "cell_type": "code",
   "execution_count": 36,
   "metadata": {},
   "outputs": [],
   "source": [
    "df['process_text'] = df['text'].apply(preprocess)"
   ]
  },
  {
   "cell_type": "code",
   "execution_count": 46,
   "metadata": {},
   "outputs": [],
   "source": [
    "df['sentiment'] = df['process_text'].apply(get_sentiment)"
   ]
  },
  {
   "cell_type": "code",
   "execution_count": 48,
   "metadata": {},
   "outputs": [
    {
     "data": {
      "text/html": [
       "<div>\n",
       "<style scoped>\n",
       "    .dataframe tbody tr th:only-of-type {\n",
       "        vertical-align: middle;\n",
       "    }\n",
       "\n",
       "    .dataframe tbody tr th {\n",
       "        vertical-align: top;\n",
       "    }\n",
       "\n",
       "    .dataframe thead th {\n",
       "        text-align: right;\n",
       "    }\n",
       "</style>\n",
       "<table border=\"1\" class=\"dataframe\">\n",
       "  <thead>\n",
       "    <tr style=\"text-align: right;\">\n",
       "      <th></th>\n",
       "      <th>id</th>\n",
       "      <th>user</th>\n",
       "      <th>time</th>\n",
       "      <th>lat</th>\n",
       "      <th>lon</th>\n",
       "      <th>text</th>\n",
       "      <th>process_text</th>\n",
       "      <th>sentiment</th>\n",
       "    </tr>\n",
       "  </thead>\n",
       "  <tbody>\n",
       "    <tr>\n",
       "      <th>0</th>\n",
       "      <td>'262619667330396161'</td>\n",
       "      <td>'Andrewthemark'</td>\n",
       "      <td>'2012-10-28 18:19:42'</td>\n",
       "      <td>40.67360978</td>\n",
       "      <td>-73.69137707</td>\n",
       "      <td>'@yeahimjailed @marcushaight yeah but kristin ...</td>\n",
       "      <td>yeahimjailed marcushaight yeah but kristin the...</td>\n",
       "      <td>(Negative, 1)</td>\n",
       "    </tr>\n",
       "    <tr>\n",
       "      <th>1</th>\n",
       "      <td>'262619681305792512'</td>\n",
       "      <td>'cabrera'</td>\n",
       "      <td>'2012-10-28 18:19:45'</td>\n",
       "      <td>40.6879886</td>\n",
       "      <td>-73.9546139</td>\n",
       "      <td>'@zarabeatriz @dupre se viene Sandy.'\\n</td>\n",
       "      <td>zarabeatriz dupre se viene sandy</td>\n",
       "      <td>(Negative, 1)</td>\n",
       "    </tr>\n",
       "    <tr>\n",
       "      <th>2</th>\n",
       "      <td>'262619684543811584'</td>\n",
       "      <td>'m0ff'</td>\n",
       "      <td>'2012-10-28 18:19:46'</td>\n",
       "      <td>45.27374765</td>\n",
       "      <td>-75.86502686</td>\n",
       "      <td>'I wonder how bad my migraine is gonna be when...</td>\n",
       "      <td>i wonder how bad my migraine is gonna be when ...</td>\n",
       "      <td>(Negative, 1)</td>\n",
       "    </tr>\n",
       "    <tr>\n",
       "      <th>3</th>\n",
       "      <td>'262619693376999424'</td>\n",
       "      <td>'Melbroadcasts'</td>\n",
       "      <td>'2012-10-28 18:19:48'</td>\n",
       "      <td>40.77172216</td>\n",
       "      <td>-73.91315814</td>\n",
       "      <td>'Come on atleast save some of the wolves! http...</td>\n",
       "      <td>come on atleast save some of the wolves  hopey...</td>\n",
       "      <td>(Negative, 1)</td>\n",
       "    </tr>\n",
       "    <tr>\n",
       "      <th>4</th>\n",
       "      <td>'262619694199107584'</td>\n",
       "      <td>'LeEmLeGiT'</td>\n",
       "      <td>'2012-10-28 18:19:48'</td>\n",
       "      <td>41.11522062</td>\n",
       "      <td>-75.04597037</td>\n",
       "      <td>'\"@jellii19: Sandy #YouScared... Roll through ...</td>\n",
       "      <td>jellii sandy youscared roll through the dirty ...</td>\n",
       "      <td>(Negative, 1)</td>\n",
       "    </tr>\n",
       "  </tbody>\n",
       "</table>\n",
       "</div>"
      ],
      "text/plain": [
       "                     id             user                   time          lat  \\\n",
       "0  '262619667330396161'  'Andrewthemark'  '2012-10-28 18:19:42'  40.67360978   \n",
       "1  '262619681305792512'        'cabrera'  '2012-10-28 18:19:45'   40.6879886   \n",
       "2  '262619684543811584'           'm0ff'  '2012-10-28 18:19:46'  45.27374765   \n",
       "3  '262619693376999424'  'Melbroadcasts'  '2012-10-28 18:19:48'  40.77172216   \n",
       "4  '262619694199107584'      'LeEmLeGiT'  '2012-10-28 18:19:48'  41.11522062   \n",
       "\n",
       "             lon                                               text  \\\n",
       "0   -73.69137707  '@yeahimjailed @marcushaight yeah but kristin ...   \n",
       "1    -73.9546139            '@zarabeatriz @dupre se viene Sandy.'\\n   \n",
       "2   -75.86502686  'I wonder how bad my migraine is gonna be when...   \n",
       "3   -73.91315814  'Come on atleast save some of the wolves! http...   \n",
       "4   -75.04597037  '\"@jellii19: Sandy #YouScared... Roll through ...   \n",
       "\n",
       "                                        process_text      sentiment  \n",
       "0  yeahimjailed marcushaight yeah but kristin the...  (Negative, 1)  \n",
       "1                   zarabeatriz dupre se viene sandy  (Negative, 1)  \n",
       "2  i wonder how bad my migraine is gonna be when ...  (Negative, 1)  \n",
       "3  come on atleast save some of the wolves  hopey...  (Negative, 1)  \n",
       "4  jellii sandy youscared roll through the dirty ...  (Negative, 1)  "
      ]
     },
     "execution_count": 48,
     "metadata": {},
     "output_type": "execute_result"
    }
   ],
   "source": [
    "df.head()"
   ]
  }
 ],
 "metadata": {
  "kernelspec": {
   "display_name": "Python 3",
   "language": "python",
   "name": "python3"
  },
  "language_info": {
   "codemirror_mode": {
    "name": "ipython",
    "version": 3
   },
   "file_extension": ".py",
   "mimetype": "text/x-python",
   "name": "python",
   "nbconvert_exporter": "python",
   "pygments_lexer": "ipython3",
   "version": "3.7.1"
  }
 },
 "nbformat": 4,
 "nbformat_minor": 2
}
